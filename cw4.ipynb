{
 "cells": [
  {
   "cell_type": "code",
   "execution_count": null,
   "id": "177bbe38-deb5-43f7-b828-d9f30863627e",
   "metadata": {},
   "outputs": [],
   "source": [
    "# === a. Import modułów ===\n",
    "import pandas as pd\n",
    "import numpy as np\n",
    "from sklearn.model_selection import train_test_split\n",
    "from sklearn.preprocessing import LabelEncoder\n",
    "from tensorflow.keras.models import Sequential\n",
    "from tensorflow.keras.layers import Dense\n",
    "from tensorflow.keras.utils import to_categorical\n",
    "from sklearn.metrics import confusion_matrix\n",
    "\n",
    "# === b. Wczytywanie danych ===\n",
    "df = pd.read_csv('features.csv')\n",
    "X = df.drop('label', axis=1).values\n",
    "y = df['label'].values\n",
    "\n",
    "# === c. Wstępne przetwarzanie danych ===\n",
    "# i. Kodowanie całkowitoliczbowe\n",
    "label_encoder = LabelEncoder()\n",
    "y_int = label_encoder.fit_transform(y)\n",
    "\n",
    "# ii. Kodowanie 1 z n\n",
    "y_onehot = to_categorical(y_int)\n",
    "\n",
    "# iii. Podział na zbiory treningowy i testowy\n",
    "X_train, X_test, y_train, y_test = train_test_split(X, y_onehot, test_size=0.3, random_state=42)\n",
    "\n",
    "# === d. Tworzenie modelu sieci neuronowej ===\n",
    "model = Sequential()\n",
    "model.add(Dense(10, activation='sigmoid', input_dim=72))\n",
    "model.add(Dense(4, activation='softmax'))\n",
    "\n",
    "# Kompilacja modelu\n",
    "model.compile(loss='categorical_crossentropy', optimizer='sgd', metrics=['accuracy'])\n",
    "\n",
    "# === e. Uczenie sieci ===\n",
    "model.fit(X_train, y_train, epochs=100, batch_size=10, shuffle=True, verbose=1)\n",
    "\n",
    "# === f. Testowanie sieci ===\n",
    "y_pred_probs = model.predict(X_test)\n",
    "y_pred = np.argmax(y_pred_probs, axis=1)\n",
    "y_test_labels = np.argmax(y_test, axis=1)\n",
    "\n",
    "# Macierz pomyłek\n",
    "cm = confusion_matrix(y_test_labels, y_pred)\n",
    "print(\"Macierz pomyłek:\")\n",
    "print(cm)\n"
   ]
  },
  {
   "cell_type": "code",
   "execution_count": null,
   "id": "35bb141f-2b61-49e5-a672-0f7d474843bc",
   "metadata": {},
   "outputs": [],
   "source": []
  }
 ],
 "metadata": {
  "kernelspec": {
   "display_name": "env",
   "language": "python",
   "name": "env"
  },
  "language_info": {
   "codemirror_mode": {
    "name": "ipython",
    "version": 3
   },
   "file_extension": ".py",
   "mimetype": "text/x-python",
   "name": "python",
   "nbconvert_exporter": "python",
   "pygments_lexer": "ipython3",
   "version": "3.13.3"
  }
 },
 "nbformat": 4,
 "nbformat_minor": 5
}
